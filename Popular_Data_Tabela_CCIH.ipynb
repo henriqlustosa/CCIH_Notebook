{
 "cells": [
  {
   "cell_type": "code",
   "execution_count": 13,
   "metadata": {},
   "outputs": [
    {
     "name": "stdout",
     "output_type": "stream",
     "text": [
      "The sql extension is already loaded. To reload it, use:\n",
      "  %reload_ext sql\n"
     ]
    }
   ],
   "source": [
    "# importacao de bibliotecas\n",
    "import pandas as pd\n",
    "from unidecode import unidecode\n",
    "\n",
    "%load_ext sql"
   ]
  },
  {
   "cell_type": "code",
   "execution_count": 14,
   "metadata": {},
   "outputs": [
    {
     "name": "stdout",
     "output_type": "stream",
     "text": [
      "1.24.3\n"
     ]
    }
   ],
   "source": [
    "import numpy as np\n",
    "print(np.__version__)"
   ]
  },
  {
   "cell_type": "code",
   "execution_count": 15,
   "metadata": {},
   "outputs": [],
   "source": [
    "# Importacao da biblioteca sqlalchemy\n",
    "from sqlalchemy import create_engine"
   ]
  },
  {
   "cell_type": "code",
   "execution_count": 16,
   "metadata": {},
   "outputs": [],
   "source": [
    "# Buscar dados dos arquivos do excel\n",
    "\n",
    "excel_data_df = pd.read_excel(r'G:\\OneDrive - Default Directory\\OneDrive - rede.sp\\Arquivos_CCIH\\ARQUIVOS_ORIGINAIS\\cultura positiva 18.4.24-26.4.24.xlsx')"
   ]
  },
  {
   "cell_type": "code",
   "execution_count": 17,
   "metadata": {},
   "outputs": [
    {
     "data": {
      "text/html": [
       "<div>\n",
       "<style scoped>\n",
       "    .dataframe tbody tr th:only-of-type {\n",
       "        vertical-align: middle;\n",
       "    }\n",
       "\n",
       "    .dataframe tbody tr th {\n",
       "        vertical-align: top;\n",
       "    }\n",
       "\n",
       "    .dataframe thead th {\n",
       "        text-align: right;\n",
       "    }\n",
       "</style>\n",
       "<table border=\"1\" class=\"dataframe\">\n",
       "  <thead>\n",
       "    <tr style=\"text-align: right;\">\n",
       "      <th></th>\n",
       "      <th>parametroDataInicial</th>\n",
       "      <th>parametroDataFinal</th>\n",
       "      <th>ParametroUsuarioLogado</th>\n",
       "      <th>DataSistema</th>\n",
       "      <th>Clinica</th>\n",
       "      <th>NomeClinica</th>\n",
       "      <th>NumeroPedido</th>\n",
       "      <th>NomePaciente</th>\n",
       "      <th>DataNascimento</th>\n",
       "      <th>Nome</th>\n",
       "      <th>Resultado</th>\n",
       "    </tr>\n",
       "  </thead>\n",
       "  <tbody>\n",
       "    <tr>\n",
       "      <th>0</th>\n",
       "      <td>2024-04-18</td>\n",
       "      <td>2024-04-26</td>\n",
       "      <td>111881</td>\n",
       "      <td>2024-04-21</td>\n",
       "      <td>1PS2</td>\n",
       "      <td>PRONTO SOCORRO _2º AND</td>\n",
       "      <td>10790872</td>\n",
       "      <td>ADAMIRIAN FERREIRA CRUZ ABELLAN NADAL</td>\n",
       "      <td>1961-10-01</td>\n",
       "      <td>CULTURA GERAL</td>\n",
       "      <td>Isolado [1]: Staphylococcus saprophyticus</td>\n",
       "    </tr>\n",
       "    <tr>\n",
       "      <th>1</th>\n",
       "      <td>2024-04-18</td>\n",
       "      <td>2024-04-26</td>\n",
       "      <td>111881</td>\n",
       "      <td>2024-04-21</td>\n",
       "      <td>1PS2</td>\n",
       "      <td>PRONTO SOCORRO _2º AND</td>\n",
       "      <td>10790872</td>\n",
       "      <td>ADAMIRIAN FERREIRA CRUZ ABELLAN NADAL</td>\n",
       "      <td>1961-10-01</td>\n",
       "      <td>CULTURA GERAL</td>\n",
       "      <td>Isolado [2]: Staphylococcus epidermidis</td>\n",
       "    </tr>\n",
       "    <tr>\n",
       "      <th>2</th>\n",
       "      <td>2024-04-18</td>\n",
       "      <td>2024-04-26</td>\n",
       "      <td>111881</td>\n",
       "      <td>2024-04-18</td>\n",
       "      <td>6URO</td>\n",
       "      <td>UROLOGIA_6º AND - AMB</td>\n",
       "      <td>10794123</td>\n",
       "      <td>ADILSON ANTUNES BITENCOURT</td>\n",
       "      <td>1947-01-21</td>\n",
       "      <td>UROCULTURA</td>\n",
       "      <td>Isolado [2]: Klebsiella pneumoniae ssp pneumoniae</td>\n",
       "    </tr>\n",
       "    <tr>\n",
       "      <th>3</th>\n",
       "      <td>2024-04-18</td>\n",
       "      <td>2024-04-26</td>\n",
       "      <td>111881</td>\n",
       "      <td>2024-04-19</td>\n",
       "      <td>4GNC</td>\n",
       "      <td>GINECOLOGIA_4º AND - AMB</td>\n",
       "      <td>10794953</td>\n",
       "      <td>ANA PAULA DE SOUZA</td>\n",
       "      <td>1981-05-11</td>\n",
       "      <td>UROCULTURA</td>\n",
       "      <td>Isolado [1]: Escherichia coli</td>\n",
       "    </tr>\n",
       "    <tr>\n",
       "      <th>4</th>\n",
       "      <td>2024-04-18</td>\n",
       "      <td>2024-04-26</td>\n",
       "      <td>111881</td>\n",
       "      <td>2024-04-18</td>\n",
       "      <td>4REU</td>\n",
       "      <td>REUMATOLOGIA_4º AND - AMB</td>\n",
       "      <td>10794217</td>\n",
       "      <td>ANA SODRE DE FRANÇA MOREIRA</td>\n",
       "      <td>1952-02-01</td>\n",
       "      <td>UROCULTURA</td>\n",
       "      <td>Isolado [1]: Escherichia coli</td>\n",
       "    </tr>\n",
       "  </tbody>\n",
       "</table>\n",
       "</div>"
      ],
      "text/plain": [
       "  parametroDataInicial parametroDataFinal  ParametroUsuarioLogado DataSistema  \\\n",
       "0           2024-04-18         2024-04-26                  111881  2024-04-21   \n",
       "1           2024-04-18         2024-04-26                  111881  2024-04-21   \n",
       "2           2024-04-18         2024-04-26                  111881  2024-04-18   \n",
       "3           2024-04-18         2024-04-26                  111881  2024-04-19   \n",
       "4           2024-04-18         2024-04-26                  111881  2024-04-18   \n",
       "\n",
       "  Clinica                NomeClinica  NumeroPedido  \\\n",
       "0    1PS2     PRONTO SOCORRO _2º AND      10790872   \n",
       "1    1PS2     PRONTO SOCORRO _2º AND      10790872   \n",
       "2    6URO      UROLOGIA_6º AND - AMB      10794123   \n",
       "3    4GNC   GINECOLOGIA_4º AND - AMB      10794953   \n",
       "4    4REU  REUMATOLOGIA_4º AND - AMB      10794217   \n",
       "\n",
       "                            NomePaciente DataNascimento           Nome  \\\n",
       "0  ADAMIRIAN FERREIRA CRUZ ABELLAN NADAL     1961-10-01  CULTURA GERAL   \n",
       "1  ADAMIRIAN FERREIRA CRUZ ABELLAN NADAL     1961-10-01  CULTURA GERAL   \n",
       "2             ADILSON ANTUNES BITENCOURT     1947-01-21     UROCULTURA   \n",
       "3                     ANA PAULA DE SOUZA     1981-05-11     UROCULTURA   \n",
       "4            ANA SODRE DE FRANÇA MOREIRA     1952-02-01     UROCULTURA   \n",
       "\n",
       "                                           Resultado  \n",
       "0          Isolado [1]: Staphylococcus saprophyticus  \n",
       "1            Isolado [2]: Staphylococcus epidermidis  \n",
       "2  Isolado [2]: Klebsiella pneumoniae ssp pneumoniae  \n",
       "3                      Isolado [1]: Escherichia coli  \n",
       "4                      Isolado [1]: Escherichia coli  "
      ]
     },
     "execution_count": 17,
     "metadata": {},
     "output_type": "execute_result"
    }
   ],
   "source": [
    "#Apresentacao dos dados\n",
    "\n",
    "excel_data_df.head()"
   ]
  },
  {
   "cell_type": "code",
   "execution_count": 18,
   "metadata": {},
   "outputs": [
    {
     "data": {
      "text/plain": [
       "(70, 11)"
      ]
     },
     "execution_count": 18,
     "metadata": {},
     "output_type": "execute_result"
    }
   ],
   "source": [
    "excel_data_df.shape"
   ]
  },
  {
   "cell_type": "code",
   "execution_count": 19,
   "metadata": {},
   "outputs": [],
   "source": [
    "# Busca das linhas que são usadas como flag\n",
    "\n",
    "df = excel_data_df.loc[(excel_data_df['Resultado'] == 'Enterococcus resistente a glicopeptideos (VRE), consultar CCIH.') | (excel_data_df['Resultado'] == 'Cepa resistente a carbapenemicos, consultar CCIH.')| (excel_data_df['Resultado'] == 'Enterococcus Vanco Resistente (VRE), consultar CCIH.')]"
   ]
  },
  {
   "cell_type": "code",
   "execution_count": 20,
   "metadata": {},
   "outputs": [
    {
     "data": {
      "text/plain": [
       "Index([31, 35], dtype='int64')"
      ]
     },
     "execution_count": 20,
     "metadata": {},
     "output_type": "execute_result"
    }
   ],
   "source": [
    "df.index"
   ]
  },
  {
   "cell_type": "code",
   "execution_count": 21,
   "metadata": {},
   "outputs": [
    {
     "data": {
      "text/html": [
       "<div>\n",
       "<style scoped>\n",
       "    .dataframe tbody tr th:only-of-type {\n",
       "        vertical-align: middle;\n",
       "    }\n",
       "\n",
       "    .dataframe tbody tr th {\n",
       "        vertical-align: top;\n",
       "    }\n",
       "\n",
       "    .dataframe thead th {\n",
       "        text-align: right;\n",
       "    }\n",
       "</style>\n",
       "<table border=\"1\" class=\"dataframe\">\n",
       "  <thead>\n",
       "    <tr style=\"text-align: right;\">\n",
       "      <th></th>\n",
       "      <th>parametroDataInicial</th>\n",
       "      <th>parametroDataFinal</th>\n",
       "      <th>ParametroUsuarioLogado</th>\n",
       "      <th>DataSistema</th>\n",
       "      <th>Clinica</th>\n",
       "      <th>NomeClinica</th>\n",
       "      <th>NumeroPedido</th>\n",
       "      <th>NomePaciente</th>\n",
       "      <th>DataNascimento</th>\n",
       "      <th>Nome</th>\n",
       "      <th>Resultado</th>\n",
       "    </tr>\n",
       "  </thead>\n",
       "  <tbody>\n",
       "    <tr>\n",
       "      <th>31</th>\n",
       "      <td>2024-04-18</td>\n",
       "      <td>2024-04-26</td>\n",
       "      <td>111881</td>\n",
       "      <td>2024-04-22</td>\n",
       "      <td>0</td>\n",
       "      <td>SEM CLINICA CADASTRADA</td>\n",
       "      <td>10784666</td>\n",
       "      <td>JOAO ELEOTERIO LINO</td>\n",
       "      <td>1940-06-09</td>\n",
       "      <td>UROCULTURA</td>\n",
       "      <td>Cepa resistente a carbapenemicos, consultar CCIH.</td>\n",
       "    </tr>\n",
       "    <tr>\n",
       "      <th>35</th>\n",
       "      <td>2024-04-18</td>\n",
       "      <td>2024-04-26</td>\n",
       "      <td>111881</td>\n",
       "      <td>2024-04-22</td>\n",
       "      <td>6URO</td>\n",
       "      <td>UROLOGIA_6º AND - AMB</td>\n",
       "      <td>10795097</td>\n",
       "      <td>JOAO ELEOTERIO LINO</td>\n",
       "      <td>1940-06-09</td>\n",
       "      <td>UROCULTURA</td>\n",
       "      <td>Cepa resistente a carbapenemicos, consultar CCIH.</td>\n",
       "    </tr>\n",
       "  </tbody>\n",
       "</table>\n",
       "</div>"
      ],
      "text/plain": [
       "   parametroDataInicial parametroDataFinal  ParametroUsuarioLogado  \\\n",
       "31           2024-04-18         2024-04-26                  111881   \n",
       "35           2024-04-18         2024-04-26                  111881   \n",
       "\n",
       "   DataSistema Clinica             NomeClinica  NumeroPedido  \\\n",
       "31  2024-04-22       0  SEM CLINICA CADASTRADA      10784666   \n",
       "35  2024-04-22    6URO   UROLOGIA_6º AND - AMB      10795097   \n",
       "\n",
       "           NomePaciente DataNascimento        Nome  \\\n",
       "31  JOAO ELEOTERIO LINO     1940-06-09  UROCULTURA   \n",
       "35  JOAO ELEOTERIO LINO     1940-06-09  UROCULTURA   \n",
       "\n",
       "                                            Resultado  \n",
       "31  Cepa resistente a carbapenemicos, consultar CCIH.  \n",
       "35  Cepa resistente a carbapenemicos, consultar CCIH.  "
      ]
     },
     "execution_count": 21,
     "metadata": {},
     "output_type": "execute_result"
    }
   ],
   "source": [
    "df.head(10)"
   ]
  },
  {
   "cell_type": "code",
   "execution_count": 22,
   "metadata": {},
   "outputs": [],
   "source": [
    "df_ccih = excel_data_df.loc[df.index - 1]"
   ]
  },
  {
   "cell_type": "code",
   "execution_count": 23,
   "metadata": {},
   "outputs": [
    {
     "data": {
      "text/html": [
       "<div>\n",
       "<style scoped>\n",
       "    .dataframe tbody tr th:only-of-type {\n",
       "        vertical-align: middle;\n",
       "    }\n",
       "\n",
       "    .dataframe tbody tr th {\n",
       "        vertical-align: top;\n",
       "    }\n",
       "\n",
       "    .dataframe thead th {\n",
       "        text-align: right;\n",
       "    }\n",
       "</style>\n",
       "<table border=\"1\" class=\"dataframe\">\n",
       "  <thead>\n",
       "    <tr style=\"text-align: right;\">\n",
       "      <th></th>\n",
       "      <th>parametroDataInicial</th>\n",
       "      <th>parametroDataFinal</th>\n",
       "      <th>ParametroUsuarioLogado</th>\n",
       "      <th>DataSistema</th>\n",
       "      <th>Clinica</th>\n",
       "      <th>NomeClinica</th>\n",
       "      <th>NumeroPedido</th>\n",
       "      <th>NomePaciente</th>\n",
       "      <th>DataNascimento</th>\n",
       "      <th>Nome</th>\n",
       "      <th>Resultado</th>\n",
       "    </tr>\n",
       "  </thead>\n",
       "  <tbody>\n",
       "    <tr>\n",
       "      <th>30</th>\n",
       "      <td>2024-04-18</td>\n",
       "      <td>2024-04-26</td>\n",
       "      <td>111881</td>\n",
       "      <td>2024-04-22</td>\n",
       "      <td>0</td>\n",
       "      <td>SEM CLINICA CADASTRADA</td>\n",
       "      <td>10784666</td>\n",
       "      <td>JOAO ELEOTERIO LINO</td>\n",
       "      <td>1940-06-09</td>\n",
       "      <td>UROCULTURA</td>\n",
       "      <td>Isolado [2]: Klebsiella pneumoniae ssp pneumoniae</td>\n",
       "    </tr>\n",
       "    <tr>\n",
       "      <th>34</th>\n",
       "      <td>2024-04-18</td>\n",
       "      <td>2024-04-26</td>\n",
       "      <td>111881</td>\n",
       "      <td>2024-04-22</td>\n",
       "      <td>6URO</td>\n",
       "      <td>UROLOGIA_6º AND - AMB</td>\n",
       "      <td>10795097</td>\n",
       "      <td>JOAO ELEOTERIO LINO</td>\n",
       "      <td>1940-06-09</td>\n",
       "      <td>UROCULTURA</td>\n",
       "      <td>Isolado [2]: Klebsiella pneumoniae ssp pneumoniae</td>\n",
       "    </tr>\n",
       "  </tbody>\n",
       "</table>\n",
       "</div>"
      ],
      "text/plain": [
       "   parametroDataInicial parametroDataFinal  ParametroUsuarioLogado  \\\n",
       "30           2024-04-18         2024-04-26                  111881   \n",
       "34           2024-04-18         2024-04-26                  111881   \n",
       "\n",
       "   DataSistema Clinica             NomeClinica  NumeroPedido  \\\n",
       "30  2024-04-22       0  SEM CLINICA CADASTRADA      10784666   \n",
       "34  2024-04-22    6URO   UROLOGIA_6º AND - AMB      10795097   \n",
       "\n",
       "           NomePaciente DataNascimento        Nome  \\\n",
       "30  JOAO ELEOTERIO LINO     1940-06-09  UROCULTURA   \n",
       "34  JOAO ELEOTERIO LINO     1940-06-09  UROCULTURA   \n",
       "\n",
       "                                            Resultado  \n",
       "30  Isolado [2]: Klebsiella pneumoniae ssp pneumoniae  \n",
       "34  Isolado [2]: Klebsiella pneumoniae ssp pneumoniae  "
      ]
     },
     "execution_count": 23,
     "metadata": {},
     "output_type": "execute_result"
    }
   ],
   "source": [
    "df_ccih.head(20)"
   ]
  },
  {
   "cell_type": "code",
   "execution_count": 24,
   "metadata": {},
   "outputs": [],
   "source": [
    "# determining the name of the file\n",
    "file_name = r'G:\\OneDrive - Default Directory\\OneDrive - rede.sp\\Arquivos_CCIH\\CCIH\\CCIH_Data_2023_04_18.xlsx'\n",
    "  \n",
    "# saving the excel\n",
    "df_ccih.to_excel(file_name)"
   ]
  },
  {
   "cell_type": "code",
   "execution_count": null,
   "metadata": {},
   "outputs": [],
   "source": []
  },
  {
   "cell_type": "code",
   "execution_count": null,
   "metadata": {},
   "outputs": [],
   "source": []
  },
  {
   "cell_type": "code",
   "execution_count": null,
   "metadata": {},
   "outputs": [],
   "source": []
  },
  {
   "cell_type": "code",
   "execution_count": null,
   "metadata": {},
   "outputs": [],
   "source": []
  },
  {
   "cell_type": "code",
   "execution_count": null,
   "metadata": {},
   "outputs": [],
   "source": []
  },
  {
   "cell_type": "code",
   "execution_count": null,
   "metadata": {},
   "outputs": [],
   "source": []
  }
 ],
 "metadata": {
  "kernelspec": {
   "display_name": "Python 3",
   "language": "python",
   "name": "python3"
  },
  "language_info": {
   "codemirror_mode": {
    "name": "ipython",
    "version": 3
   },
   "file_extension": ".py",
   "mimetype": "text/x-python",
   "name": "python",
   "nbconvert_exporter": "python",
   "pygments_lexer": "ipython3",
   "version": "3.8.3"
  }
 },
 "nbformat": 4,
 "nbformat_minor": 4
}
