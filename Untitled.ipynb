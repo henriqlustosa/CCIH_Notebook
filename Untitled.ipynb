{
 "cells": [
  {
   "cell_type": "code",
   "execution_count": 6,
   "metadata": {},
   "outputs": [],
   "source": [
    "from PIL import Image\n",
    "# Create a list of images for different sizes\n",
    "icon_sizes = [16, 32, 48, 64, 128, 256]\n",
    "images = [Image.open(r'C:\\Users\\h013026\\Downloads\\printer.png').resize((size, size), Image.ANTIALIAS) for size in icon_sizes]\n",
    "\n",
    "# Save as .ico file\n",
    "images[0].save('icon_16.ico', format='ICO', sizes=[(size, size) for size in icon_sizes])\n",
    "images[1].save('icon_32.ico', format='ICO', sizes=[(size, size) for size in icon_sizes])\n",
    "images[2].save('icon_48.ico', format='ICO', sizes=[(size, size) for size in icon_sizes])\n",
    "images[3].save('icon_64.ico', format='ICO', sizes=[(size, size) for size in icon_sizes])\n",
    "images[4].save('icon_128.ico', format='ICO', sizes=[(size, size) for size in icon_sizes])\n",
    "images[5].save('icon_256.ico', format='ICO', sizes=[(size, size) for size in icon_sizes])\n"
   ]
  },
  {
   "cell_type": "code",
   "execution_count": null,
   "metadata": {},
   "outputs": [],
   "source": []
  }
 ],
 "metadata": {
  "kernelspec": {
   "display_name": "Python 3",
   "language": "python",
   "name": "python3"
  },
  "language_info": {
   "codemirror_mode": {
    "name": "ipython",
    "version": 3
   },
   "file_extension": ".py",
   "mimetype": "text/x-python",
   "name": "python",
   "nbconvert_exporter": "python",
   "pygments_lexer": "ipython3",
   "version": "3.8.3"
  }
 },
 "nbformat": 4,
 "nbformat_minor": 4
}
