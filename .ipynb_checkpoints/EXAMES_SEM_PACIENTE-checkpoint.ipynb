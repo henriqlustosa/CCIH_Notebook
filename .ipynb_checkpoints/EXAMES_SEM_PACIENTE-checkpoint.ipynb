{
 "cells": [
  {
   "cell_type": "code",
   "execution_count": 5,
   "metadata": {},
   "outputs": [
    {
     "name": "stdout",
     "output_type": "stream",
     "text": [
      "The sql extension is already loaded. To reload it, use:\n",
      "  %reload_ext sql\n"
     ]
    }
   ],
   "source": [
    "# Acessar a base de dados do Postgre para fazer a consulta com a query acima.\n",
    "\n",
    "%load_ext sql"
   ]
  },
  {
   "cell_type": "code",
   "execution_count": 10,
   "metadata": {},
   "outputs": [],
   "source": [
    "# Importacao da biblioteca sqlalchemy\n",
    "from sqlalchemy import create_engine"
   ]
  },
  {
   "cell_type": "code",
   "execution_count": 11,
   "metadata": {},
   "outputs": [],
   "source": [
    "## Conexão com a base de dados postgre\n",
    "\n",
    "import pypyodbc as podbc\n",
    "\n",
    "conn = podbc.connect(\"Driver={SQL Server Native Client 10.0};Server=localhost;Database=Isolamento;uid=sa;pwd=AMam@!12\")"
   ]
  },
  {
   "cell_type": "code",
   "execution_count": 13,
   "metadata": {},
   "outputs": [
    {
     "name": "stdout",
     "output_type": "stream",
     "text": [
      "74\n"
     ]
    }
   ],
   "source": [
    "## Acesso a base de dados\n",
    "cur = conn.cursor()\n",
    "sql = \"SELECT COUNT(*) FROM [Isolamento].[dbo].[Exame]  as e left join  [Isolamento].[dbo].[Paciente] as p on e.rh= p.rh where p.rh is null\"\n",
    "cur.execute(sql)\n",
    "data = cur.fetchone()\n",
    "while data:\n",
    "    print(str(data[0]))\n",
    "    data = cur.fetchone()\n",
    "conn.close()"
   ]
  },
  {
   "cell_type": "code",
   "execution_count": null,
   "metadata": {},
   "outputs": [],
   "source": []
  }
 ],
 "metadata": {
  "kernelspec": {
   "display_name": "Python 3",
   "language": "python",
   "name": "python3"
  },
  "language_info": {
   "codemirror_mode": {
    "name": "ipython",
    "version": 3
   },
   "file_extension": ".py",
   "mimetype": "text/x-python",
   "name": "python",
   "nbconvert_exporter": "python",
   "pygments_lexer": "ipython3",
   "version": "3.7.6"
  }
 },
 "nbformat": 4,
 "nbformat_minor": 4
}
