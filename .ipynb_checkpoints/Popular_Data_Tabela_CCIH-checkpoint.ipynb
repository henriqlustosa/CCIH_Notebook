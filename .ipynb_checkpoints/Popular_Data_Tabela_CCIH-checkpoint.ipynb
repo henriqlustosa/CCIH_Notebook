{
 "cells": [
  {
   "cell_type": "code",
   "execution_count": 1,
   "metadata": {},
   "outputs": [],
   "source": [
    "# importacao de bibliotecas\n",
    "import pandas as pd\n",
    "from unidecode import unidecode\n",
    "\n",
    "%load_ext sql"
   ]
  },
  {
   "cell_type": "code",
   "execution_count": 2,
   "metadata": {},
   "outputs": [],
   "source": [
    "# Importacao da biblioteca sqlalchemy\n",
    "from sqlalchemy import create_engine"
   ]
  },
  {
   "cell_type": "code",
   "execution_count": 3,
   "metadata": {},
   "outputs": [],
   "source": [
    "# Buscar dados dos arquivos do excel\n",
    "\n",
    "excel_data_df = pd.read_excel(r'C:\\Users\\h013026\\OneDrive - Default Directory\\Arquivos_CCIH_2\\Arquivos_Originais\\culturas positivas 14 -21 set.xlsx')"
   ]
  },
  {
   "cell_type": "code",
   "execution_count": 4,
   "metadata": {},
   "outputs": [
    {
     "data": {
      "text/html": [
       "<div>\n",
       "<style scoped>\n",
       "    .dataframe tbody tr th:only-of-type {\n",
       "        vertical-align: middle;\n",
       "    }\n",
       "\n",
       "    .dataframe tbody tr th {\n",
       "        vertical-align: top;\n",
       "    }\n",
       "\n",
       "    .dataframe thead th {\n",
       "        text-align: right;\n",
       "    }\n",
       "</style>\n",
       "<table border=\"1\" class=\"dataframe\">\n",
       "  <thead>\n",
       "    <tr style=\"text-align: right;\">\n",
       "      <th></th>\n",
       "      <th>parametroDataInicial</th>\n",
       "      <th>parametroDataFinal</th>\n",
       "      <th>ParametroUsuarioLogado</th>\n",
       "      <th>DataSistema</th>\n",
       "      <th>Clinica</th>\n",
       "      <th>NomeClinica</th>\n",
       "      <th>NumeroPedido</th>\n",
       "      <th>NomePaciente</th>\n",
       "      <th>DataNascimento</th>\n",
       "      <th>Nome</th>\n",
       "      <th>Resultado</th>\n",
       "    </tr>\n",
       "  </thead>\n",
       "  <tbody>\n",
       "    <tr>\n",
       "      <th>0</th>\n",
       "      <td>2022-09-15</td>\n",
       "      <td>2022-09-22</td>\n",
       "      <td>133647</td>\n",
       "      <td>2022-09-15</td>\n",
       "      <td>0</td>\n",
       "      <td>SEM CLINICA CADASTRADA</td>\n",
       "      <td>10542237</td>\n",
       "      <td>DIOMARIA MARIA DA CONCEIÇÃO</td>\n",
       "      <td>1940-01-29</td>\n",
       "      <td>UROCULTURA</td>\n",
       "      <td>Isolado [1]: Escherichia coli</td>\n",
       "    </tr>\n",
       "    <tr>\n",
       "      <th>1</th>\n",
       "      <td>2022-09-15</td>\n",
       "      <td>2022-09-22</td>\n",
       "      <td>133647</td>\n",
       "      <td>2022-09-15</td>\n",
       "      <td>0</td>\n",
       "      <td>SEM CLINICA CADASTRADA</td>\n",
       "      <td>10542237</td>\n",
       "      <td>DIOMARIA MARIA DA CONCEIÇÃO</td>\n",
       "      <td>1940-01-29</td>\n",
       "      <td>UROCULTURA</td>\n",
       "      <td>Isolado [2]: Klebsiella oxytoca</td>\n",
       "    </tr>\n",
       "    <tr>\n",
       "      <th>2</th>\n",
       "      <td>2022-09-15</td>\n",
       "      <td>2022-09-22</td>\n",
       "      <td>133647</td>\n",
       "      <td>2022-09-15</td>\n",
       "      <td>7CC</td>\n",
       "      <td>CENTRO CIRURGICO_7º AND</td>\n",
       "      <td>10545575</td>\n",
       "      <td>JOYCE MARIANO GONCALVES</td>\n",
       "      <td>1992-09-25</td>\n",
       "      <td>CULTURA GERAL</td>\n",
       "      <td>Isolado [1]: Enterococcus faecalis</td>\n",
       "    </tr>\n",
       "    <tr>\n",
       "      <th>3</th>\n",
       "      <td>2022-09-15</td>\n",
       "      <td>2022-09-22</td>\n",
       "      <td>133647</td>\n",
       "      <td>2022-09-15</td>\n",
       "      <td>8M</td>\n",
       "      <td>MATERNIDADE_8º AND - ENF</td>\n",
       "      <td>10547022</td>\n",
       "      <td>JOYCE MARIANO GONCALVES</td>\n",
       "      <td>1992-09-25</td>\n",
       "      <td>CULTURA GERAL</td>\n",
       "      <td>Isolado [1]: Enterococcus faecalis</td>\n",
       "    </tr>\n",
       "    <tr>\n",
       "      <th>4</th>\n",
       "      <td>2022-09-15</td>\n",
       "      <td>2022-09-22</td>\n",
       "      <td>133647</td>\n",
       "      <td>2022-09-15</td>\n",
       "      <td>6URO</td>\n",
       "      <td>UROLOGIA_6º AND - AMB</td>\n",
       "      <td>10552090</td>\n",
       "      <td>LINDINALVA FERREIRA DE FREITAS</td>\n",
       "      <td>1944-09-12</td>\n",
       "      <td>UROCULTURA</td>\n",
       "      <td>Isolado [1]: Escherichia coli</td>\n",
       "    </tr>\n",
       "  </tbody>\n",
       "</table>\n",
       "</div>"
      ],
      "text/plain": [
       "  parametroDataInicial parametroDataFinal  ParametroUsuarioLogado DataSistema  \\\n",
       "0           2022-09-15         2022-09-22                  133647  2022-09-15   \n",
       "1           2022-09-15         2022-09-22                  133647  2022-09-15   \n",
       "2           2022-09-15         2022-09-22                  133647  2022-09-15   \n",
       "3           2022-09-15         2022-09-22                  133647  2022-09-15   \n",
       "4           2022-09-15         2022-09-22                  133647  2022-09-15   \n",
       "\n",
       "  Clinica               NomeClinica  NumeroPedido  \\\n",
       "0       0    SEM CLINICA CADASTRADA      10542237   \n",
       "1       0    SEM CLINICA CADASTRADA      10542237   \n",
       "2     7CC   CENTRO CIRURGICO_7º AND      10545575   \n",
       "3      8M  MATERNIDADE_8º AND - ENF      10547022   \n",
       "4    6URO     UROLOGIA_6º AND - AMB      10552090   \n",
       "\n",
       "                     NomePaciente DataNascimento           Nome  \\\n",
       "0     DIOMARIA MARIA DA CONCEIÇÃO     1940-01-29     UROCULTURA   \n",
       "1     DIOMARIA MARIA DA CONCEIÇÃO     1940-01-29     UROCULTURA   \n",
       "2         JOYCE MARIANO GONCALVES     1992-09-25  CULTURA GERAL   \n",
       "3         JOYCE MARIANO GONCALVES     1992-09-25  CULTURA GERAL   \n",
       "4  LINDINALVA FERREIRA DE FREITAS     1944-09-12     UROCULTURA   \n",
       "\n",
       "                            Resultado  \n",
       "0       Isolado [1]: Escherichia coli  \n",
       "1     Isolado [2]: Klebsiella oxytoca  \n",
       "2  Isolado [1]: Enterococcus faecalis  \n",
       "3  Isolado [1]: Enterococcus faecalis  \n",
       "4       Isolado [1]: Escherichia coli  "
      ]
     },
     "execution_count": 4,
     "metadata": {},
     "output_type": "execute_result"
    }
   ],
   "source": [
    "#Apresentacao dos dados\n",
    "\n",
    "excel_data_df.head()"
   ]
  },
  {
   "cell_type": "code",
   "execution_count": 5,
   "metadata": {},
   "outputs": [
    {
     "data": {
      "text/plain": [
       "(10, 11)"
      ]
     },
     "execution_count": 5,
     "metadata": {},
     "output_type": "execute_result"
    }
   ],
   "source": [
    "excel_data_df.shape"
   ]
  },
  {
   "cell_type": "code",
   "execution_count": 6,
   "metadata": {},
   "outputs": [],
   "source": [
    "# Busca das linhas que são usadas como flag\n",
    "\n",
    "df = excel_data_df.loc[(excel_data_df['Resultado'] == 'Enterococcus resistente a glicopeptideos (VRE), consultar CCIH.') | (excel_data_df['Resultado'] == 'Cepa resistente a carbapenemicos, consultar CCIH.')| (excel_data_df['Resultado'] == 'Enterococcus Vanco Resistente (VRE), consultar CCIH.')]"
   ]
  },
  {
   "cell_type": "code",
   "execution_count": 7,
   "metadata": {},
   "outputs": [
    {
     "data": {
      "text/plain": [
       "Int64Index([6], dtype='int64')"
      ]
     },
     "execution_count": 7,
     "metadata": {},
     "output_type": "execute_result"
    }
   ],
   "source": [
    "df.index"
   ]
  },
  {
   "cell_type": "code",
   "execution_count": 8,
   "metadata": {},
   "outputs": [
    {
     "data": {
      "text/html": [
       "<div>\n",
       "<style scoped>\n",
       "    .dataframe tbody tr th:only-of-type {\n",
       "        vertical-align: middle;\n",
       "    }\n",
       "\n",
       "    .dataframe tbody tr th {\n",
       "        vertical-align: top;\n",
       "    }\n",
       "\n",
       "    .dataframe thead th {\n",
       "        text-align: right;\n",
       "    }\n",
       "</style>\n",
       "<table border=\"1\" class=\"dataframe\">\n",
       "  <thead>\n",
       "    <tr style=\"text-align: right;\">\n",
       "      <th></th>\n",
       "      <th>parametroDataInicial</th>\n",
       "      <th>parametroDataFinal</th>\n",
       "      <th>ParametroUsuarioLogado</th>\n",
       "      <th>DataSistema</th>\n",
       "      <th>Clinica</th>\n",
       "      <th>NomeClinica</th>\n",
       "      <th>NumeroPedido</th>\n",
       "      <th>NomePaciente</th>\n",
       "      <th>DataNascimento</th>\n",
       "      <th>Nome</th>\n",
       "      <th>Resultado</th>\n",
       "    </tr>\n",
       "  </thead>\n",
       "  <tbody>\n",
       "    <tr>\n",
       "      <th>6</th>\n",
       "      <td>2022-09-15</td>\n",
       "      <td>2022-09-22</td>\n",
       "      <td>133647</td>\n",
       "      <td>2022-09-15</td>\n",
       "      <td>6PRO</td>\n",
       "      <td>PROCTOLOGIA_6º AND -AMB</td>\n",
       "      <td>10552040</td>\n",
       "      <td>MARIA JOSE DE OLIVEIRA</td>\n",
       "      <td>1950-09-07</td>\n",
       "      <td>UROCULTURA</td>\n",
       "      <td>Cepa resistente a carbapenemicos, consultar CCIH.</td>\n",
       "    </tr>\n",
       "  </tbody>\n",
       "</table>\n",
       "</div>"
      ],
      "text/plain": [
       "  parametroDataInicial parametroDataFinal  ParametroUsuarioLogado DataSistema  \\\n",
       "6           2022-09-15         2022-09-22                  133647  2022-09-15   \n",
       "\n",
       "  Clinica              NomeClinica  NumeroPedido            NomePaciente  \\\n",
       "6    6PRO  PROCTOLOGIA_6º AND -AMB      10552040  MARIA JOSE DE OLIVEIRA   \n",
       "\n",
       "  DataNascimento        Nome  \\\n",
       "6     1950-09-07  UROCULTURA   \n",
       "\n",
       "                                           Resultado  \n",
       "6  Cepa resistente a carbapenemicos, consultar CCIH.  "
      ]
     },
     "execution_count": 8,
     "metadata": {},
     "output_type": "execute_result"
    }
   ],
   "source": [
    "df.head(10)"
   ]
  },
  {
   "cell_type": "code",
   "execution_count": 9,
   "metadata": {},
   "outputs": [],
   "source": [
    "df_ccih = excel_data_df.loc[df.index - 1]"
   ]
  },
  {
   "cell_type": "code",
   "execution_count": 10,
   "metadata": {},
   "outputs": [
    {
     "data": {
      "text/html": [
       "<div>\n",
       "<style scoped>\n",
       "    .dataframe tbody tr th:only-of-type {\n",
       "        vertical-align: middle;\n",
       "    }\n",
       "\n",
       "    .dataframe tbody tr th {\n",
       "        vertical-align: top;\n",
       "    }\n",
       "\n",
       "    .dataframe thead th {\n",
       "        text-align: right;\n",
       "    }\n",
       "</style>\n",
       "<table border=\"1\" class=\"dataframe\">\n",
       "  <thead>\n",
       "    <tr style=\"text-align: right;\">\n",
       "      <th></th>\n",
       "      <th>parametroDataInicial</th>\n",
       "      <th>parametroDataFinal</th>\n",
       "      <th>ParametroUsuarioLogado</th>\n",
       "      <th>DataSistema</th>\n",
       "      <th>Clinica</th>\n",
       "      <th>NomeClinica</th>\n",
       "      <th>NumeroPedido</th>\n",
       "      <th>NomePaciente</th>\n",
       "      <th>DataNascimento</th>\n",
       "      <th>Nome</th>\n",
       "      <th>Resultado</th>\n",
       "    </tr>\n",
       "  </thead>\n",
       "  <tbody>\n",
       "    <tr>\n",
       "      <th>5</th>\n",
       "      <td>2022-09-15</td>\n",
       "      <td>2022-09-22</td>\n",
       "      <td>133647</td>\n",
       "      <td>2022-09-15</td>\n",
       "      <td>6PRO</td>\n",
       "      <td>PROCTOLOGIA_6º AND -AMB</td>\n",
       "      <td>10552040</td>\n",
       "      <td>MARIA JOSE DE OLIVEIRA</td>\n",
       "      <td>1950-09-07</td>\n",
       "      <td>UROCULTURA</td>\n",
       "      <td>Isolado [1]: Klebsiella pneumoniae ssp ozaenae</td>\n",
       "    </tr>\n",
       "  </tbody>\n",
       "</table>\n",
       "</div>"
      ],
      "text/plain": [
       "  parametroDataInicial parametroDataFinal  ParametroUsuarioLogado DataSistema  \\\n",
       "5           2022-09-15         2022-09-22                  133647  2022-09-15   \n",
       "\n",
       "  Clinica              NomeClinica  NumeroPedido            NomePaciente  \\\n",
       "5    6PRO  PROCTOLOGIA_6º AND -AMB      10552040  MARIA JOSE DE OLIVEIRA   \n",
       "\n",
       "  DataNascimento        Nome                                       Resultado  \n",
       "5     1950-09-07  UROCULTURA  Isolado [1]: Klebsiella pneumoniae ssp ozaenae  "
      ]
     },
     "execution_count": 10,
     "metadata": {},
     "output_type": "execute_result"
    }
   ],
   "source": [
    "df_ccih.head(10)"
   ]
  },
  {
   "cell_type": "code",
   "execution_count": 11,
   "metadata": {},
   "outputs": [],
   "source": [
    "# determining the name of the file\n",
    "file_name = r'C:\\Users\\h013026\\OneDrive - Default Directory\\Arquivos_CCIH_2\\CCIH\\CCIH_Data_2022_09_15.xlsx'\n",
    "  \n",
    "# saving the excel\n",
    "df_ccih.to_excel(file_name)"
   ]
  },
  {
   "cell_type": "code",
   "execution_count": null,
   "metadata": {},
   "outputs": [],
   "source": []
  },
  {
   "cell_type": "code",
   "execution_count": null,
   "metadata": {},
   "outputs": [],
   "source": []
  },
  {
   "cell_type": "code",
   "execution_count": null,
   "metadata": {},
   "outputs": [],
   "source": []
  }
 ],
 "metadata": {
  "kernelspec": {
   "display_name": "Python 3",
   "language": "python",
   "name": "python3"
  },
  "language_info": {
   "codemirror_mode": {
    "name": "ipython",
    "version": 3
   },
   "file_extension": ".py",
   "mimetype": "text/x-python",
   "name": "python",
   "nbconvert_exporter": "python",
   "pygments_lexer": "ipython3",
   "version": "3.8.3"
  }
 },
 "nbformat": 4,
 "nbformat_minor": 4
}
